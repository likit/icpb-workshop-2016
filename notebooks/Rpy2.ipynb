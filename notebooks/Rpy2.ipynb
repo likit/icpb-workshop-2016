{
 "cells": [
  {
   "cell_type": "code",
   "execution_count": 5,
   "metadata": {
    "collapsed": false
   },
   "outputs": [
    {
     "name": "stdout",
     "output_type": "stream",
     "text": [
      "The rpy2.ipython extension is already loaded. To reload it, use:\n",
      "  %reload_ext rpy2.ipython\n"
     ]
    }
   ],
   "source": [
    "%load_ext rpy2.ipython"
   ]
  },
  {
   "cell_type": "code",
   "execution_count": 6,
   "metadata": {
    "collapsed": false
   },
   "outputs": [
    {
     "data": {
      "image/png": "[encoded data removed]"
     },
     "metadata": {},
     "output_type": "display_data"
    }
   ],
   "source": [
    "%%R\n",
    "library(ggplot2)\n",
    "p <- ggplot(mtcars, aes(wt, mpg))\n",
    "p <- p + geom_point()\n",
    "print(p)"
   ]
  },
  {
   "cell_type": "code",
   "execution_count": 7,
   "metadata": {
    "collapsed": true
   },
   "outputs": [],
   "source": [
    "%%R\n",
    "library('ChemmineR')"
   ]
  },
  {
   "cell_type": "code",
   "execution_count": 8,
   "metadata": {
    "collapsed": false
   },
   "outputs": [
    {
     "data": {
      "text/plain": [
       "An instance of \"SDFset\" with 100 molecules\n"
      ]
     },
     "metadata": {},
     "output_type": "display_data"
    }
   ],
   "source": [
    "%%R\n",
    "data(sdfsample) \n",
    "sdfset <- sdfsample\n",
    "sdfset # Returns summary of SDFset "
   ]
  },
  {
   "cell_type": "code",
   "execution_count": 9,
   "metadata": {
    "collapsed": false
   },
   "outputs": [
    {
     "data": {
      "text/plain": [
       "An instance of \"SDFset\" with 4 molecules\n"
      ]
     },
     "metadata": {},
     "output_type": "display_data"
    }
   ],
   "source": [
    "%%R\n",
    "sdfset[1:4] # Subsetting of object"
   ]
  },
  {
   "cell_type": "code",
   "execution_count": 12,
   "metadata": {
    "collapsed": false
   },
   "outputs": [
    {
     "data": {
      "text/plain": [
       "An instance of \"SDF\"\n",
       "\n",
       "<<header>>\n",
       "                            Molecule_Name \n",
       "                                 \"650001\" \n",
       "                                   Source \n",
       "                 \"  -OEChem-07071010512D\" \n",
       "                                  Comment \n",
       "                                       \"\" \n",
       "                              Counts_Line \n",
       "\" 61 64  0     0  0  0  0  0  0999 V2000\" \n",
       "\n",
       "<<atomblock>>\n",
       "          C1      C2  C3  C5  C6  C7  C8  C9 C10 C11 C12 C13 C14 C15 C16\n",
       "O_1   7.0468  0.0839   0   0   0   0   0   0   0   0   0   0   0   0   0\n",
       "O_2  12.2708  1.0492   0   0   0   0   0   0   0   0   0   0   0   0   0\n",
       "...      ...     ... ... ... ... ... ... ... ... ... ... ... ... ... ...\n",
       "H_60  1.8411 -1.5985   0   0   0   0   0   0   0   0   0   0   0   0   0\n",
       "H_61  2.6597 -1.2843   0   0   0   0   0   0   0   0   0   0   0   0   0\n",
       "\n",
       "<<bondblock>>\n",
       "     C1  C2  C3  C4  C5  C6  C7\n",
       "1     1  16   2   0   0   0   0\n",
       "2     2  23   1   0   0   0   0\n",
       "... ... ... ... ... ... ... ...\n",
       "63   33  60   1   0   0   0   0\n",
       "64   33  61   1   0   0   0   0\n",
       "\n",
       "<<datablock>> (33 data items)\n",
       "          PUBCHEM_COMPOUND_CID PUBCHEM_COMPOUND_CANONICALIZED \n",
       "                      \"650001\"                            \"1\" \n",
       "     PUBCHEM_CACTVS_COMPLEXITY  PUBCHEM_CACTVS_HBOND_ACCEPTOR \n",
       "                         \"700\"                            \"7\" \n",
       "                               \n",
       "                         \"...\" \n"
      ]
     },
     "metadata": {},
     "output_type": "display_data"
    }
   ],
   "source": [
    "%%R\n",
    "sdfset[[1]]"
   ]
  },
  {
   "cell_type": "code",
   "execution_count": 13,
   "metadata": {
    "collapsed": false
   },
   "outputs": [
    {
     "data": {
      "text/plain": [
       "$CMP1\n",
       "An instance of \"SDF\"\n",
       "\n",
       "<<header>>\n",
       "                            Molecule_Name \n",
       "                                 \"650001\" \n",
       "                                   Source \n",
       "                 \"  -OEChem-07071010512D\" \n",
       "                                  Comment \n",
       "                                       \"\" \n",
       "                              Counts_Line \n",
       "\" 61 64  0     0  0  0  0  0  0999 V2000\" \n",
       "\n",
       "<<atomblock>>\n",
       "          C1      C2  C3  C5  C6  C7  C8  C9 C10 C11 C12 C13 C14 C15 C16\n",
       "O_1   7.0468  0.0839   0   0   0   0   0   0   0   0   0   0   0   0   0\n",
       "O_2  12.2708  1.0492   0   0   0   0   0   0   0   0   0   0   0   0   0\n",
       "...      ...     ... ... ... ... ... ... ... ... ... ... ... ... ... ...\n",
       "H_60  1.8411 -1.5985   0   0   0   0   0   0   0   0   0   0   0   0   0\n",
       "H_61  2.6597 -1.2843   0   0   0   0   0   0   0   0   0   0   0   0   0\n",
       "\n",
       "<<bondblock>>\n",
       "     C1  C2  C3  C4  C5  C6  C7\n",
       "1     1  16   2   0   0   0   0\n",
       "2     2  23   1   0   0   0   0\n",
       "... ... ... ... ... ... ... ...\n",
       "63   33  60   1   0   0   0   0\n",
       "64   33  61   1   0   0   0   0\n",
       "\n",
       "<<datablock>> (33 data items)\n",
       "          PUBCHEM_COMPOUND_CID PUBCHEM_COMPOUND_CANONICALIZED \n",
       "                      \"650001\"                            \"1\" \n",
       "     PUBCHEM_CACTVS_COMPLEXITY  PUBCHEM_CACTVS_HBOND_ACCEPTOR \n",
       "                         \"700\"                            \"7\" \n",
       "                               \n",
       "                         \"...\" \n",
       "\n",
       "$CMP2\n",
       "An instance of \"SDF\"\n",
       "\n",
       "<<header>>\n",
       "                            Molecule_Name \n",
       "                                 \"650002\" \n",
       "                                   Source \n",
       "                 \"  -OEChem-07071010512D\" \n",
       "                                  Comment \n",
       "                                       \"\" \n",
       "                              Counts_Line \n",
       "\" 49 51  0     0  0  0  0  0  0999 V2000\" \n",
       "\n",
       "<<atomblock>>\n",
       "          C1     C2  C3  C5  C6  C7  C8  C9 C10 C11 C12 C13 C14 C15 C16\n",
       "O_1    3.732  0.997   0   0   0   0   0   0   0   0   0   0   0   0   0\n",
       "O_2        2 -2.003   0   0   0   0   0   0   0   0   0   0   0   0   0\n",
       "...      ...    ... ... ... ... ... ... ... ... ... ... ... ... ... ...\n",
       "H_48 10.6863 2.6555   0   0   0   0   0   0   0   0   0   0   0   0   0\n",
       "H_49 10.4379 -3.272   0   0   0   0   0   0   0   0   0   0   0   0   0\n",
       "\n",
       "<<bondblock>>\n",
       "     C1  C2  C3  C4  C5  C6  C7\n",
       "1     1  15   2   0   0   0   0\n",
       "2     2  18   2   0   0   0   0\n",
       "... ... ... ... ... ... ... ...\n",
       "50   25  47   1   0   0   0   0\n",
       "51   26  48   1   0   0   0   0\n",
       "\n",
       "<<datablock>> (33 data items)\n",
       "          PUBCHEM_COMPOUND_CID PUBCHEM_COMPOUND_CANONICALIZED \n",
       "                      \"650002\"                            \"1\" \n",
       "     PUBCHEM_CACTVS_COMPLEXITY  PUBCHEM_CACTVS_HBOND_ACCEPTOR \n",
       "                         \"497\"                            \"5\" \n",
       "                               \n",
       "                         \"...\" \n",
       "\n",
       "$CMP3\n",
       "An instance of \"SDF\"\n",
       "\n",
       "<<header>>\n",
       "                            Molecule_Name \n",
       "                                 \"650003\" \n",
       "                                   Source \n",
       "                 \"  -OEChem-07071010512D\" \n",
       "                                  Comment \n",
       "                                       \"\" \n",
       "                              Counts_Line \n",
       "\" 44 47  0     0  0  0  0  0  0999 V2000\" \n",
       "\n",
       "<<atomblock>>\n",
       "         C1      C2  C3  C5  C6  C7  C8  C9 C10 C11 C12 C13 C14 C15 C16\n",
       "S_1   4.326  1.9917   0   0   0   0   0   0   0   0   0   0   0   0   0\n",
       "O_2  2.5369 -1.0961   0   0   0   0   0   0   0   0   0   0   0   0   0\n",
       "...     ...     ... ... ... ... ... ... ... ... ... ... ... ... ... ...\n",
       "H_43 2.4361  3.5824   0   0   0   0   0   0   0   0   0   0   0   0   0\n",
       "H_44 3.1175  3.0307   0   0   0   0   0   0   0   0   0   0   0   0   0\n",
       "\n",
       "<<bondblock>>\n",
       "     C1  C2  C3  C4  C5  C6  C7\n",
       "1     1  23   1   0   0   0   0\n",
       "2     1  24   1   0   0   0   0\n",
       "... ... ... ... ... ... ... ...\n",
       "46   26  43   1   0   0   0   0\n",
       "47   26  44   1   0   0   0   0\n",
       "\n",
       "<<datablock>> (28 data items)\n",
       "          PUBCHEM_COMPOUND_CID PUBCHEM_COMPOUND_CANONICALIZED \n",
       "                      \"650003\"                            \"1\" \n",
       "     PUBCHEM_CACTVS_COMPLEXITY  PUBCHEM_CACTVS_HBOND_ACCEPTOR \n",
       "                         \"638\"                            \"6\" \n",
       "                               \n",
       "                         \"...\" \n",
       "\n",
       "$CMP4\n",
       "An instance of \"SDF\"\n",
       "\n",
       "<<header>>\n",
       "                            Molecule_Name \n",
       "                                 \"650004\" \n",
       "                                   Source \n",
       "                 \"  -OEChem-07071010512D\" \n",
       "                                  Comment \n",
       "                                       \"\" \n",
       "                              Counts_Line \n",
       "\" 59 61  0     0  0  0  0  0  0999 V2000\" \n",
       "\n",
       "<<atomblock>>\n",
       "          C1     C2  C3  C5  C6  C7  C8  C9 C10 C11 C12 C13 C14 C15 C16\n",
       "S_1   7.1279 1.5981   0   0   0   0   0   0   0   0   0   0   0   0   0\n",
       "O_2    3.732 3.5981   0   0   0   0   0   0   0   0   0   0   0   0   0\n",
       "...      ...    ... ... ... ... ... ... ... ... ... ... ... ... ... ...\n",
       "H_58 15.4379  0.403   0   0   0   0   0   0   0   0   0   0   0   0   0\n",
       "H_59  14.591  0.176   0   0   0   0   0   0   0   0   0   0   0   0   0\n",
       "\n",
       "<<bondblock>>\n",
       "     C1  C2  C3  C4  C5  C6  C7\n",
       "1     1  15   1   0   0   0   0\n",
       "2     1  22   1   0   0   0   0\n",
       "... ... ... ... ... ... ... ...\n",
       "60   32  58   1   0   0   0   0\n",
       "61   32  59   1   0   0   0   0\n",
       "\n",
       "<<datablock>> (33 data items)\n",
       "          PUBCHEM_COMPOUND_CID PUBCHEM_COMPOUND_CANONICALIZED \n",
       "                      \"650004\"                            \"1\" \n",
       "     PUBCHEM_CACTVS_COMPLEXITY  PUBCHEM_CACTVS_HBOND_ACCEPTOR \n",
       "                         \"698\"                            \"6\" \n",
       "                               \n",
       "                         \"...\" \n",
       "\n"
      ]
     },
     "metadata": {},
     "output_type": "display_data"
    }
   ],
   "source": [
    "%%R\n",
    "view(sdfset[1:4]) # Returns summarized content of many SDFs, not printed here"
   ]
  },
  {
   "cell_type": "code",
   "execution_count": null,
   "metadata": {
    "collapsed": true
   },
   "outputs": [],
   "source": []
  }
 ],
 "metadata": {
  "kernelspec": {
   "display_name": "Python 2",
   "language": "python",
   "name": "python2"
  },
  "language_info": {
   "codemirror_mode": {
    "name": "ipython",
    "version": 2
   },
   "file_extension": ".py",
   "mimetype": "text/x-python",
   "name": "python",
   "nbconvert_exporter": "python",
   "pygments_lexer": "ipython2",
   "version": "2.7.11"
  }
 },
 "nbformat": 4,
 "nbformat_minor": 0
}
